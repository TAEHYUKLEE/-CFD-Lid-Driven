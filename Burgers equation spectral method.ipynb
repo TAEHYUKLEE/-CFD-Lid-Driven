{
 "cells": [
  {
   "cell_type": "code",
   "execution_count": 1,
   "metadata": {},
   "outputs": [
    {
     "name": "stdout",
     "output_type": "stream",
     "text": [
      "wave number\n",
      "[  0.   1.   2.   3.   4.   5.   6.   7.   8.   9.  10.  11.  12.  13.\n",
      "  14.  15.  16.  17.  18.  19.  20.  21.  22.  23.  24.  25.  26.  27.\n",
      "  28.  29.  30.  31.  32.  33.  34.  35.  36.  37.  38.  39.  40.  41.\n",
      "  42.  43.  44.  45.  46.  47.  48.  49.  50.  51.  52.  53.  54.  55.\n",
      "  56.  57.  58.  59.  60.  61.  62.  63.  64.  65.  66.  67.  68.  69.\n",
      "  70.  71.  72.  73.  74.  75.  76.  77.  78.  79.  80.  81.  82.  83.\n",
      "  84.  85.  86.  87.  88.  89. -90. -89. -88. -87. -86. -85. -84. -83.\n",
      " -82. -81. -80. -79. -78. -77. -76. -75. -74. -73. -72. -71. -70. -69.\n",
      " -68. -67. -66. -65. -64. -63. -62. -61. -60. -59. -58. -57. -56. -55.\n",
      " -54. -53. -52. -51. -50. -49. -48. -47. -46. -45. -44. -43. -42. -41.\n",
      " -40. -39. -38. -37. -36. -35. -34. -33. -32. -31. -30. -29. -28. -27.\n",
      " -26. -25. -24. -23. -22. -21. -20. -19. -18. -17. -16. -15. -14. -13.\n",
      " -12. -11. -10.  -9.  -8.  -7.  -6.  -5.  -4.  -3.  -2.  -1.]\n"
     ]
    },
    {
     "data": {
      "image/png": "[encoded data removed]",
      "text/plain": [
       "<Figure size 432x288 with 1 Axes>"
      ]
     },
     "metadata": {
      "needs_background": "light"
     },
     "output_type": "display_data"
    }
   ],
   "source": [
    "#Bugers equation (two wave number)\n",
    "import numpy as np \n",
    "import matplotlib.pyplot as plt\n",
    "import matplotlib.animation as animation\n",
    "import csv\n",
    "\n",
    "f = open('Burgers nu = 0.1.plt', 'w', encoding='utf-8', newline='')\n",
    "#wr = plt.writer(f)\n",
    "\n",
    "wave = np.zeros([180],dtype = np.float64)\n",
    "x = np.zeros([180],dtype = np.float64)\n",
    "u_old = np.zeros([180],dtype = np.float64)\n",
    "u_new = np.zeros([180],dtype = np.float64)\n",
    "U_old = np.zeros([180],dtype = np.complex128)\n",
    "U_new = np.zeros([180],dtype = np.complex128)\n",
    "w_old = np.zeros([180],dtype = np.complex128)\n",
    "G_old = np.zeros([180],dtype = np.complex128)\n",
    "\n",
    "#Discretization of Basis & Domain N\n",
    "N = 180\n",
    "T = 1500\n",
    "nu = 0.1\n",
    "Domain = 2.0*np.pi\n",
    "d_t = 1/100 # delta - time\n",
    "d_x = Domain/N\n",
    "\n",
    "\n",
    "#Initial condition (Discretization)\n",
    "for i in range (N):\n",
    "    x[i] = i*d_x  \n",
    "\n",
    "    if(i<N//2):\n",
    "        wave[i] = i   ##wave number\n",
    "        \n",
    "    elif(i>=N//2):\n",
    "        wave[i] = i-N\n",
    "\n",
    "print(\"wave number\")\n",
    "print(wave)\n",
    "\n",
    "#python에서는 &&가 and조건이 아니라 그냥 and라고 적으면 된다\n",
    "\n",
    "for i in range (N):\n",
    "    u_old[i] = np.sin(x[i])\n",
    "        \n",
    "#print(u_old)    \n",
    "f.write('VARIABLES = \"x\", \"y\" \\n')\n",
    "\n",
    "for t in range(T):\n",
    "    \n",
    "    f.write('Zone T= \"%d\"\\n' %t)  \n",
    "    f.write('I=%d \\n' %N)\n",
    "    w_old = u_old**2\n",
    "    U_old = np.fft.fft(u_old)  \n",
    "    G_old = np.fft.fft(w_old)\n",
    "    #print(G_old)\n",
    "\n",
    "    #Initial condition (Discretization) $ Inverse Fourier\n",
    "    \n",
    "    #for i in range (N): # without zeropadding\n",
    "    for i in range (N): # with zeropadding\n",
    "        \n",
    "        U_new[i] = (1-d_t/2*nu*(wave[i]**2))/(1+d_t/2*nu*(wave[i]**2))*U_old[i] - d_t*wave[i]/(1+d_t/2*nu*(wave[i]**2))*G_old[i]*1j\n",
    "        \n",
    "        if(i>=N//3 and i<N*2//3):\n",
    "            U_new[i] = 0.0 #Zero-padding\n",
    "        \n",
    "    #time update     \n",
    "        \n",
    "    #Inverse Fourier transform\n",
    "    u_old = np.real(np.fft.ifft(U_new)) #Inverse Fourier transform\n",
    "    #print(u_old[i])\n",
    "    \n",
    "    for k in range(N):\n",
    "        f.write(\"%d %f \\n\" %(k , u_old[k]))\n",
    "    #U (Frequency domain), u (real domain)  \n",
    "\n",
    "\n",
    "\n",
    "#plt.subplots(nrows=2, ncols=1) graph를 1개 이상을 보여주고 싶을때 사용한다\n",
    "plt.plot(x[0:100],u_old[0:100],label='u-velocity')\n",
    "#plt.plot(x[0:51],x[0:51],label='x')\n",
    "plt.legend()\n",
    "plt.xlabel('Distance'); plt.ylabel('u-velocity'); plt.grid()\n",
    "\n",
    "\n",
    "f.close()\n",
    "\n"
   ]
  }
 ],
 "metadata": {
  "kernelspec": {
   "display_name": "Python 3",
   "language": "python",
   "name": "python3"
  },
  "language_info": {
   "codemirror_mode": {
    "name": "ipython",
    "version": 3
   },
   "file_extension": ".py",
   "mimetype": "text/x-python",
   "name": "python",
   "nbconvert_exporter": "python",
   "pygments_lexer": "ipython3",
   "version": "3.7.6"
  }
 },
 "nbformat": 4,
 "nbformat_minor": 4
}
